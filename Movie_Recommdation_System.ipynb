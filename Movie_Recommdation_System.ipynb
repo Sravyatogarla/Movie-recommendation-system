{
 "cells": [
  {
   "cell_type": "markdown",
   "id": "4e1d0071-1c88-4d41-91a1-aba6075c8122",
   "metadata": {},
   "source": [
    "# 🎬 Movie Recommendation System Project\n"
   ]
  },
  {
   "cell_type": "markdown",
   "id": "5a8b1cec-4ec5-449b-a87d-cff312864400",
   "metadata": {},
   "source": [
    "## Context\n",
    "With the explosion of OTT platforms like Netflix, Prime Video, and Hotstar, users often feel overwhelmed by the number of available movies. To enhance the user experience, **MyNextMovie**, a startup, aims to build a powerful recommendation system.\n",
    "\n",
    "This project uses open-source **MovieLens** data to explore, design, and implement three types of movie recommendation systems:\n"
   ]
  },
  {
   "cell_type": "markdown",
   "id": "10a4e6d0-6641-4323-995f-ffa70a87c367",
   "metadata": {},
   "source": [
    "## 🎯 Objectives\n",
    "1. Popularity-Based Recommender\n",
    "2. Content-Based Recommender\n",
    "3. Collaborative Filtering Recommender"
   ]
  },
  {
   "cell_type": "markdown",
   "id": "2ef08e8d-3c94-4509-9e78-904a19b094ea",
   "metadata": {},
   "source": [
    "**Steps and Tasks:**\n",
    "\n",
    "➢ Import libraries and load dataset\n",
    "\n",
    "➢ Exploratory Data Analysis including:\n",
    "\n",
    "• Understanding of distribution of the features available\n",
    "\n",
    "• Finding unique users and movies\n",
    "\n",
    "• Average rating and Total movies at genre level\n",
    "\n",
    "• Unique genres considered.\n",
    "\n",
    "➢ Design the 3 different types of recommendation modules as mentioned in the\n",
    "objectives\n",
    "\n",
    "➢ Additional/Optional: Create a GUI interface using Python libraries (ipywidgets etc.)\n",
    "to play around with the recommendation modules."
   ]
  },
  {
   "cell_type": "markdown",
   "id": "cc9ed6cc-240a-445d-82a0-3e00ab8389f2",
   "metadata": {},
   "source": [
    "## STEP 1: Load & Explore the Data"
   ]
  },
  {
   "cell_type": "code",
   "execution_count": 1,
   "id": "37bb4ecc-8c59-46d8-ae73-b493df12b1b4",
   "metadata": {},
   "outputs": [],
   "source": [
    "# Importing all neccessary Libraries\n",
    "import pandas as pd\n",
    "import numpy as np\n",
    "import matplotlib.pyplot as plt\n",
    "import seaborn as sns\n",
    "from sklearn.feature_extraction.text import TfidfVectorizer\n",
    "from sklearn.metrics.pairwise import cosine_similarity"
   ]
  },
  {
   "cell_type": "code",
   "execution_count": 2,
   "id": "cdc20154-2a6c-45a8-a8e9-ff3569bca53b",
   "metadata": {},
   "outputs": [],
   "source": [
    "#  Load Datasets\n",
    "movies = pd.read_csv(\"movies.csv\")\n",
    "ratings = pd.read_csv(\"ratings.csv\")\n"
   ]
  },
  {
   "cell_type": "code",
   "execution_count": 3,
   "id": "113b27e5-55f9-48a6-b9d5-3b5619c04184",
   "metadata": {},
   "outputs": [
    {
     "name": "stdout",
     "output_type": "stream",
     "text": [
      "🎬 Movies Dataset:\n",
      "   movieId                               title  \\\n",
      "0        1                    Toy Story (1995)   \n",
      "1        2                      Jumanji (1995)   \n",
      "2        3             Grumpier Old Men (1995)   \n",
      "3        4            Waiting to Exhale (1995)   \n",
      "4        5  Father of the Bride Part II (1995)   \n",
      "\n",
      "                                        genres  \n",
      "0  Adventure|Animation|Children|Comedy|Fantasy  \n",
      "1                   Adventure|Children|Fantasy  \n",
      "2                               Comedy|Romance  \n",
      "3                         Comedy|Drama|Romance  \n",
      "4                                       Comedy   \n",
      "\n"
     ]
    }
   ],
   "source": [
    "# First Look at the Data\n",
    "print(\"🎬 Movies Dataset:\")\n",
    "print(movies.head(), \"\\n\")"
   ]
  },
  {
   "cell_type": "code",
   "execution_count": 4,
   "id": "7ac72ac9-b73f-4033-bbce-9dffd21b2c8f",
   "metadata": {},
   "outputs": [
    {
     "name": "stdout",
     "output_type": "stream",
     "text": [
      "⭐ Ratings Dataset:\n",
      "   userId  movieId  rating   timestamp\n",
      "0       1       16     4.0  1217897793\n",
      "1       1       24     1.5  1217895807\n",
      "2       1       32     4.0  1217896246\n",
      "3       1       47     4.0  1217896556\n",
      "4       1       50     4.0  1217896523 \n",
      "\n"
     ]
    }
   ],
   "source": [
    "print(\"⭐ Ratings Dataset:\")\n",
    "print(ratings.head(), \"\\n\")\n"
   ]
  },
  {
   "cell_type": "code",
   "execution_count": 5,
   "id": "e3f06ef4-7155-45d3-86c4-ab1576583c62",
   "metadata": {},
   "outputs": [
    {
     "name": "stdout",
     "output_type": "stream",
     "text": [
      "Movies shape: (10329, 3)\n",
      "Ratings shape: (105339, 4)\n"
     ]
    }
   ],
   "source": [
    "# Basic Info\n",
    "print(\"Movies shape:\", movies.shape)\n",
    "print(\"Ratings shape:\", ratings.shape)"
   ]
  },
  {
   "cell_type": "code",
   "execution_count": 6,
   "id": "ac1344bc-07f7-4804-98da-176ff148fdbf",
   "metadata": {},
   "outputs": [
    {
     "name": "stdout",
     "output_type": "stream",
     "text": [
      "Missing values in Movies:\n",
      " movieId    0\n",
      "title      0\n",
      "genres     0\n",
      "dtype: int64\n",
      "Missing values in Ratings:\n",
      " userId       0\n",
      "movieId      0\n",
      "rating       0\n",
      "timestamp    0\n",
      "dtype: int64\n"
     ]
    }
   ],
   "source": [
    "print(\"Missing values in Movies:\\n\", movies.isnull().sum())\n",
    "print(\"Missing values in Ratings:\\n\", ratings.isnull().sum())"
   ]
  },
  {
   "cell_type": "code",
   "execution_count": 7,
   "id": "bbb2c991-258f-42d5-8669-e9173887d599",
   "metadata": {},
   "outputs": [
    {
     "name": "stdout",
     "output_type": "stream",
     "text": [
      "\n",
      " Merged Dataset Sample:\n",
      "   userId  movieId  rating   timestamp  \\\n",
      "0       1       16     4.0  1217897793   \n",
      "1       1       24     1.5  1217895807   \n",
      "2       1       32     4.0  1217896246   \n",
      "3       1       47     4.0  1217896556   \n",
      "4       1       50     4.0  1217896523   \n",
      "\n",
      "                                       title                   genres  \n",
      "0                              Casino (1995)              Crime|Drama  \n",
      "1                              Powder (1995)             Drama|Sci-Fi  \n",
      "2  Twelve Monkeys (a.k.a. 12 Monkeys) (1995)  Mystery|Sci-Fi|Thriller  \n",
      "3                Seven (a.k.a. Se7en) (1995)         Mystery|Thriller  \n",
      "4                 Usual Suspects, The (1995)   Crime|Mystery|Thriller  \n"
     ]
    }
   ],
   "source": [
    "# Merge datasets on movieId\n",
    "data = pd.merge(ratings, movies, on='movieId')\n",
    "print(\"\\n Merged Dataset Sample:\")\n",
    "print(data.head())\n"
   ]
  },
  {
   "cell_type": "markdown",
   "id": "fdef560f-ec14-4b9f-9e9f-4d362ed5032a",
   "metadata": {},
   "source": [
    "## STEP 2: Model Exploratory Data Analysis\n",
    "Now that we’ve seen how our models work, let’s explore the underlying data to understand movie genres and rating behavior."
   ]
  },
  {
   "cell_type": "code",
   "execution_count": 8,
   "id": "a648ba0e-5dfe-46bb-9c3a-9766be6d7018",
   "metadata": {},
   "outputs": [
    {
     "name": "stdout",
     "output_type": "stream",
     "text": [
      "\n",
      "--- Unique Users and Movies ---\n",
      "\n",
      "👥 Number of Unique Users: 668\n",
      "🎞️Number of Unique Movies: 10325\n"
     ]
    }
   ],
   "source": [
    "# Unique Users and Movies\n",
    "print(\"\\n--- Unique Users and Movies ---\")\n",
    "print(\"\\n👥 Number of Unique Users:\", data['userId'].nunique())\n",
    "print(\"🎞️Number of Unique Movies:\", data['movieId'].nunique())"
   ]
  },
  {
   "cell_type": "code",
   "execution_count": 9,
   "id": "5eb55ac8-e905-4c77-8ffb-ba26c7f4bad7",
   "metadata": {},
   "outputs": [
    {
     "name": "stdout",
     "output_type": "stream",
     "text": [
      "\n",
      "--- Average Rating per Movie ---\n",
      "\n",
      "📊 Top 5 Movies by Average Rating:\n",
      "title\n",
      "Saddest Music in the World, The (2003)    5.0\n",
      "Interstate 60 (2002)                      5.0\n",
      "Gunfighter, The (1950)                    5.0\n",
      "Heima (2007)                              5.0\n",
      "Limelight (1952)                          5.0\n",
      "Name: rating, dtype: float64\n"
     ]
    }
   ],
   "source": [
    "# Average Rating per Movie\n",
    "print(\"\\n--- Average Rating per Movie ---\")\n",
    "avg_rating = data.groupby('title')['rating'].mean().sort_values(ascending=False)\n",
    "print(\"\\n📊 Top 5 Movies by Average Rating:\")\n",
    "print(avg_rating.head())\n",
    "\n"
   ]
  },
  {
   "cell_type": "code",
   "execution_count": 10,
   "id": "e2099d2b-4963-4682-a4aa-276389d35a49",
   "metadata": {},
   "outputs": [
    {
     "data": {
      "image/png": "[encoded data removed]",
      "text/plain": [
       "<Figure size 800x500 with 1 Axes>"
      ]
     },
     "metadata": {},
     "output_type": "display_data"
    }
   ],
   "source": [
    "# Distribution of Ratings\n",
    "plt.figure(figsize=(8, 5))\n",
    "sns.histplot(data['rating'], bins=9, kde=True)\n",
    "plt.title(\"Distribution of Ratings\")\n",
    "plt.xlabel(\"Rating\")\n",
    "plt.ylabel(\"Count\")\n",
    "plt.show()\n"
   ]
  },
  {
   "cell_type": "code",
   "execution_count": 11,
   "id": "1a17528c-6938-4495-97ee-97915aa8b211",
   "metadata": {},
   "outputs": [],
   "source": [
    "# Genre Analysis\n",
    "# Split genres by '|'\n",
    "genre_data = movies.copy()\n",
    "genre_data['genres'] = genre_data['genres'].str.split('|')\n",
    "genres_exploded = genre_data.explode('genres')"
   ]
  },
  {
   "cell_type": "code",
   "execution_count": 12,
   "id": "2cbe5575-b064-41f2-84fe-77b55ac4dfcd",
   "metadata": {},
   "outputs": [
    {
     "data": {
      "image/png": "[encoded data removed]",
      "text/plain": [
       "<Figure size 1000x600 with 1 Axes>"
      ]
     },
     "metadata": {},
     "output_type": "display_data"
    }
   ],
   "source": [
    "# Genre Frequency\n",
    "plt.figure(figsize=(10, 6))\n",
    "sns.countplot(data=genres_exploded, y='genres', order=genres_exploded['genres'].value_counts().index)\n",
    "plt.title(\"Number of Movies per Genre\")\n",
    "plt.xlabel(\"Count\")\n",
    "plt.ylabel(\"Genre\")\n",
    "plt.show()\n"
   ]
  },
  {
   "cell_type": "markdown",
   "id": "2f588b0a-5d54-435d-9053-ad6d6164755d",
   "metadata": {},
   "source": [
    "## Step 3: Popularity-Based Recommender System"
   ]
  },
  {
   "cell_type": "code",
   "execution_count": 13,
   "id": "88b5cede-80af-40e8-adbe-c61468fd06e1",
   "metadata": {},
   "outputs": [],
   "source": [
    "def popularity_based_recommender(genre_input, min_reviews, top_n):\n",
    "    movies_exploded = movies.copy()\n",
    "    movies_exploded['genres'] = movies_exploded['genres'].str.split('|')\n",
    "    movies_exploded = movies_exploded.explode('genres')\n",
    "    \n",
    "    # Filter by genre\n",
    "    genre_movies = movies_exploded[movies_exploded['genres'] == genre_input]\n",
    "    \n",
    "    # Merge with ratings\n",
    "    merged = pd.merge(ratings, genre_movies, on='movieId')\n",
    "    \n",
    "    # Group by movie title\n",
    "    grouped = merged.groupby('title').agg({\n",
    "        'rating': ['mean', 'count']\n",
    "    }).reset_index()\n",
    "    grouped.columns = ['title', 'avg_rating', 'num_reviews']\n",
    "    \n",
    "    # Filter by min_reviews and sort\n",
    "    filtered = grouped[grouped['num_reviews'] >= min_reviews]\n",
    "    result = filtered.sort_values(by='avg_rating', ascending=False).head(top_n)\n",
    "    return result.reset_index(drop=True)\n"
   ]
  },
  {
   "cell_type": "code",
   "execution_count": null,
   "id": "8bca0ebc-41bf-4439-9421-18db37453ded",
   "metadata": {},
   "outputs": [],
   "source": [
    "# 📥 INPUT\n",
    "genre = input(\"Enter Genre (e.g., Comedy): \")\n",
    "min_reviews = int(input(\"Enter Minimum Number of Reviews: \"))\n",
    "top_n = int(input(\"Enter Number of Recommendations: \"))\n",
    "\n",
    "# 📤 OUTPUT\n",
    "print(\"\\n Popularity-Based Recommendations:\")\n",
    "print(popularity_based_recommender(genre, min_reviews, top_n))\n"
   ]
  },
  {
   "cell_type": "markdown",
   "id": "4ee022ad-b8fa-466c-b0aa-3bb65dec6a76",
   "metadata": {},
   "source": [
    " ## STEP :4 Content-Based Recommender System"
   ]
  },
  {
   "cell_type": "code",
   "execution_count": null,
   "id": "0d84f078-7628-49fc-82f4-71bbd8f4cf65",
   "metadata": {},
   "outputs": [],
   "source": [
    "# Preprocessing\n",
    "genre_tfidf = movies.copy()\n",
    "genre_tfidf['genres'] = genre_tfidf['genres'].str.replace('|', ' ')\n",
    "tfidf = TfidfVectorizer(stop_words='english')\n",
    "tfidf_matrix = tfidf.fit_transform(genre_tfidf['genres'])\n",
    "\n",
    "# Cosine similarity\n",
    "cosine_sim = cosine_similarity(tfidf_matrix, tfidf_matrix)\n",
    "title_to_index = pd.Series(genre_tfidf.index, index=genre_tfidf['title']).drop_duplicates()\n",
    "\n",
    "def content_based_recommender(movie_title, top_n):\n",
    "    if movie_title not in title_to_index:\n",
    "        return f\"❌ Movie '{movie_title}' not found in the dataset.\"\n",
    "    \n",
    "    idx = title_to_index[movie_title]\n",
    "    sim_scores = list(enumerate(cosine_sim[idx]))\n",
    "    sim_scores = sorted(sim_scores, key=lambda x: x[1], reverse=True)\n",
    "    \n",
    "    movie_indices = [i[0] for i in sim_scores[1:top_n+1]]\n",
    "    return genre_tfidf[['title', 'genres']].iloc[movie_indices].reset_index(drop=True)\n"
   ]
  },
  {
   "cell_type": "code",
   "execution_count": null,
   "id": "f13becef-6214-4c6c-a7d5-206b0986b002",
   "metadata": {},
   "outputs": [],
   "source": [
    "# 📥 INPUT\n",
    "movie_title = input(\"Enter Movie Title (e.g., Toy Story (1995)): \")\n",
    "top_n = int(input(\"Enter Number of Similar Movies to Recommend: \"))\n",
    "\n",
    "# 📤 OUTPUT\n",
    "print(\"\\n🎯 Content-Based Recommendations:\")\n",
    "print(content_based_recommender(movie_title, top_n))\n"
   ]
  },
  {
   "cell_type": "markdown",
   "id": "85a7724c-21fb-4713-b167-206ce90991b6",
   "metadata": {},
   "source": [
    "## STEP 4: Collaborative Filtering (User-User Based)"
   ]
  },
  {
   "cell_type": "code",
   "execution_count": null,
   "id": "22c66f13-7d0b-43da-9a32-2d311904887c",
   "metadata": {},
   "outputs": [],
   "source": [
    "# Create user-movie matrix\n",
    "user_movie_matrix = ratings.pivot_table(index='userId', columns='movieId', values='rating')\n",
    "user_movie_filled = user_movie_matrix.fillna(0)\n",
    "user_similarity = cosine_similarity(user_movie_filled)\n",
    "user_similarity_df = pd.DataFrame(user_similarity, index=user_movie_matrix.index, columns=user_movie_matrix.index)\n",
    "\n",
    "def collaborative_recommender(user_id, k_similar_users, top_n):\n",
    "    if user_id not in user_similarity_df.index:\n",
    "        return f\"❌ User ID {user_id} not found.\"\n",
    "\n",
    "    # Find similar users\n",
    "    sim_users = user_similarity_df[user_id].sort_values(ascending=False).drop(user_id).head(k_similar_users).index.tolist()\n",
    "    sim_users_ratings = user_movie_matrix.loc[sim_users]\n",
    "\n",
    "    # Exclude movies already rated by user\n",
    "    user_rated = user_movie_matrix.loc[user_id].dropna().index\n",
    "    mean_ratings = sim_users_ratings.drop(columns=user_rated, errors='ignore').mean().dropna()\n",
    "    \n",
    "    top_ids = mean_ratings.sort_values(ascending=False).head(top_n).index\n",
    "    return movies[movies['movieId'].isin(top_ids)][['title']].reset_index(drop=True)\n"
   ]
  },
  {
   "cell_type": "code",
   "execution_count": null,
   "id": "335f9698-700a-4b92-ab03-8cce14c276dc",
   "metadata": {},
   "outputs": [],
   "source": [
    "# 📥 INPUT\n",
    "user_id = int(input(\"Enter User ID (e.g., 1): \"))\n",
    "k_users = int(input(\"Enter Number of Similar Users (K): \"))\n",
    "top_n = int(input(\"Enter Number of Recommendations: \"))\n",
    "\n",
    "# 📤 OUTPUT\n",
    "print(\"\\n🎯 Collaborative Recommendations:\")\n",
    "print(collaborative_recommender(user_id, k_users, top_n))\n"
   ]
  },
  {
   "cell_type": "markdown",
   "id": "de18e471-307e-40eb-95d1-16f7ca81c4bd",
   "metadata": {},
   "source": [
    "## Conclusion\n",
    "\n",
    "We built 3 types of recommendation systems:\n",
    "\n",
    "- **Popularity-Based:** Great for quick picks in a genre.\n",
    "- **Content-Based:** Suggests similar genre movies.\n",
    "- **Collaborative Filtering:** Personalized for each user.\n",
    "\n",
    ">  Future: Add matrix factorization or neural recommenders for improvement.\n"
   ]
  },
  {
   "cell_type": "code",
   "execution_count": null,
   "id": "8f50e585-3b0a-48f4-ac55-a5e51c9dedf3",
   "metadata": {},
   "outputs": [],
   "source": []
  }
 ],
 "metadata": {
  "kernelspec": {
   "display_name": "Python 3 (ipykernel)",
   "language": "python",
   "name": "python3"
  },
  "language_info": {
   "codemirror_mode": {
    "name": "ipython",
    "version": 3
   },
   "file_extension": ".py",
   "mimetype": "text/x-python",
   "name": "python",
   "nbconvert_exporter": "python",
   "pygments_lexer": "ipython3",
   "version": "3.12.6"
  }
 },
 "nbformat": 4,
 "nbformat_minor": 5
}
